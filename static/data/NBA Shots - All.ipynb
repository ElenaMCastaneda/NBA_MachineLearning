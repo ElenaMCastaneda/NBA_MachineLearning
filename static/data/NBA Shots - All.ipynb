{
 "cells": [
  {
   "cell_type": "code",
   "execution_count": 1,
   "metadata": {},
   "outputs": [],
   "source": [
    "import pandas as pd\n"
   ]
  },
  {
   "cell_type": "code",
   "execution_count": null,
   "metadata": {},
   "outputs": [],
   "source": [
    "csv1 = pd.read_csv(\"DBexport_76ers.csv\")\n",
    "csv2 = pd.read_csv(\"DBexport_Bucks.csv\")\n",
    "csv3 = pd.read_csv(\"DBexport_Bulls.csv\")\n",
    "csv4 = pd.read_csv(\"DBexport_Cavaliers.csv\")\n",
    "csv5 = pd.read_csv(\"DBexport_Celtics.csv\")\n",
    "csv6 = pd.read_csv(\"DBexport_Clippers.csv\")\n",
    "csv7 = pd.read_csv(\"DBexport_Grizzlies.csv\")\n",
    "csv8 = pd.read_csv(\"DBexport_Hawks.csv\")\n",
    "csv9 = pd.read_csv(\"DBexport_Heat.csv\")\n",
    "csv10 = pd.read_csv(\"DBexport_Hornets.csv\")\n",
    "csv11 = pd.read_csv(\"DBexport_Jazz.csv\")\n",
    "csv12 = pd.read_csv(\"DBexport_Kings.csv\")\n",
    "csv13 = pd.read_csv(\"DBexport_Knicks.csv\")\n",
    "csv14 = pd.read_csv(\"DBexport_Lakers.csv\")\n",
    "csv15 = pd.read_csv(\"DBexport_Magic.csv\")\n",
    "csv16 = pd.read_csv(\"DBexport_Mavericks.csv\")\n",
    "csv17 = pd.read_csv(\"DBexport_Warriors.csv\")\n",
    "csv18 = pd.read_csv(\"DBexport_Nets.csv\")\n",
    "csv19 = pd.read_csv(\"DBexport_Nuggets.csv\")\n",
    "csv20 = pd.read_csv(\"DBexport_Pacers.csv\")\n",
    "csv21 = pd.read_csv(\"DBexport_Pelicans.csv\")\n",
    "csv22 = pd.read_csv(\"DBexport_Pistons.csv\")\n",
    "csv23 = pd.read_csv(\"DBexport_Raptors.csv\")\n",
    "csv24 = pd.read_csv(\"DBexport_Rockets.csv\")\n",
    "csv25 = pd.read_csv(\"DBexport_Spurs.csv\")\n",
    "csv26 = pd.read_csv(\"DBexport_Suns.csv\")\n",
    "csv27 = pd.read_csv(\"DBexport_Thunder.csv\")\n",
    "csv28 = pd.read_csv(\"DBexport_Timberwolves.csv\")\n",
    "csv29 = pd.read_csv(\"DBexport_TrailBlazers.csv\")\n",
    "csv30 = pd.read_csv(\"DBexport_Wizard.csv\")\n"
   ]
  },
  {
   "cell_type": "code",
   "execution_count": 3,
   "metadata": {},
   "outputs": [],
   "source": [
    "tableau = pd.concat((csv1, csv2, csv3, csv4, csv5, csv6, csv7, csv8, csv9, csv10,csv11, csv12, csv13, csv14, csv15, csv16, csv17, csv18, csv19, csv20, csv21, csv22, csv23, csv24, csv25, csv26, csv27, csv28, csv29, csv30), axis=0, sort='True')\n"
   ]
  },
  {
   "cell_type": "code",
   "execution_count": 4,
   "metadata": {},
   "outputs": [],
   "source": [
    "tableau_data = tableau.to_csv('NBA_ALL_10.27.csv', index = None, header=True)"
   ]
  },
  {
   "cell_type": "code",
   "execution_count": null,
   "metadata": {},
   "outputs": [],
   "source": []
  }
 ],
 "metadata": {
  "kernelspec": {
   "display_name": "Python 3",
   "language": "python",
   "name": "python3"
  },
  "language_info": {
   "codemirror_mode": {
    "name": "ipython",
    "version": 3
   },
   "file_extension": ".py",
   "mimetype": "text/x-python",
   "name": "python",
   "nbconvert_exporter": "python",
   "pygments_lexer": "ipython3",
   "version": "3.7.3"
  }
 },
 "nbformat": 4,
 "nbformat_minor": 2
}
